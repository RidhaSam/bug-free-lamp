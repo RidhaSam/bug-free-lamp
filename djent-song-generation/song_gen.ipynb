{
 "cells": [
  {
   "cell_type": "code",
   "execution_count": 1,
   "metadata": {},
   "outputs": [],
   "source": [
    "import music21\n",
    "from music21 import converter, instrument, note, chord\n",
    "import tensorflow as tf\n",
    "from tensorflow import keras\n",
    "import numpy as np\n",
    "import random\n",
    "import glob\n",
    "from fractions import Fraction"
   ]
  },
  {
   "cell_type": "code",
   "execution_count": 2,
   "metadata": {},
   "outputs": [],
   "source": [
    "default_offset = 0.25"
   ]
  },
  {
   "cell_type": "code",
   "execution_count": 3,
   "metadata": {},
   "outputs": [],
   "source": [
    "def read_midis(file):\n",
    "    notes = []\n",
    "    offsets = []\n",
    "    midi = converter.parse(file)\n",
    "    notes_to_parse = midi.flat.notes\n",
    "    for i in range(len(notes_to_parse)):\n",
    "        if i != len(notes_to_parse) - 1:\n",
    "            offsets.append(notes_to_parse[i+1].offset-notes_to_parse[i].offset)\n",
    "        else:\n",
    "            offsets.append(default_offset)\n",
    "        if isinstance(notes_to_parse[i], note.Note):\n",
    "            notes.append(str(notes_to_parse[i].pitch))\n",
    "        elif isinstance(notes_to_parse[i], chord.Chord):\n",
    "            notes.append('.'.join(str(n) for n in notes_to_parse[i].normalOrder))\n",
    "    return notes,offsets"
   ]
  },
  {
   "cell_type": "code",
   "execution_count": 4,
   "metadata": {},
   "outputs": [],
   "source": [
    "midi_files = [file for file in glob.glob(\"midis/*.mid\")]\n",
    "random.shuffle(midi_files)\n",
    "\n",
    "final_notes,final_offsets = map(list,zip(*[read_midis(file) for file in midi_files]))\n",
    "\n",
    "all_notes = []\n",
    "for note_array in final_notes:\n",
    "    for elem in note_array:\n",
    "        all_notes.append(elem)\n",
    "all_notes = np.array(all_notes)\n",
    "\n",
    "all_offsets = []\n",
    "for offset_array in final_offsets:\n",
    "    for indivOff in offset_array:\n",
    "        all_offsets.append(float(indivOff))\n",
    "all_offsets = np.around(np.array(all_offsets),3)"
   ]
  },
  {
   "cell_type": "code",
   "execution_count": 5,
   "metadata": {},
   "outputs": [],
   "source": [
    "note_offset_pairs = list(zip(all_notes, all_offsets))\n",
    "n_vocab = len(set(note_offset_pairs))"
   ]
  },
  {
   "cell_type": "code",
   "execution_count": 6,
   "metadata": {},
   "outputs": [
    {
     "data": {
      "text/plain": [
       "301"
      ]
     },
     "execution_count": 6,
     "metadata": {},
     "output_type": "execute_result"
    }
   ],
   "source": [
    "n_vocab"
   ]
  },
  {
   "cell_type": "code",
   "execution_count": 7,
   "metadata": {},
   "outputs": [],
   "source": [
    "pairings = sorted(set(item for item in note_offset_pairs))\n",
    "sequence_length = 60\n",
    "pair_to_int = dict((pair, number) for number, pair in enumerate(pairings))"
   ]
  },
  {
   "cell_type": "code",
   "execution_count": 8,
   "metadata": {},
   "outputs": [],
   "source": [
    "network_in = []\n",
    "network_out = []\n",
    "for i in range(0, len(all_notes) - sequence_length):\n",
    "    seq_in = note_offset_pairs[i:i+sequence_length]\n",
    "    seq_out = note_offset_pairs[i + sequence_length]\n",
    "    network_in.append([pair_to_int[elem] for elem in seq_in])\n",
    "    network_out.append(pair_to_int[seq_out])\n",
    "\n",
    "n_patterns = len(network_in)\n",
    "network_in_array = np.reshape(network_in, (n_patterns, sequence_length,1)) / float(n_vocab)\n",
    "network_out = keras.utils.to_categorical(network_out)"
   ]
  },
  {
   "cell_type": "code",
   "execution_count": 9,
   "metadata": {},
   "outputs": [
    {
     "data": {
      "text/plain": [
       "6818"
      ]
     },
     "execution_count": 9,
     "metadata": {},
     "output_type": "execute_result"
    }
   ],
   "source": [
    "n_patterns"
   ]
  },
  {
   "cell_type": "code",
   "execution_count": 10,
   "metadata": {},
   "outputs": [],
   "source": [
    "model = keras.Sequential()\n",
    "model.add(keras.layers.Dropout(0.8))\n",
    "model.add(keras.layers.LSTM(256, input_shape = (network_in_array.shape[1], network_in_array.shape[2]), return_sequences = True))\n",
    "model.add(keras.layers.Dropout(0.4))\n",
    "model.add(keras.layers.LSTM(128))\n",
    "model.add(keras.layers.Dropout(0.4))\n",
    "model.add(keras.layers.Dense(n_vocab, activation = 'softmax'))"
   ]
  },
  {
   "cell_type": "code",
   "execution_count": 11,
   "metadata": {
    "scrolled": true
   },
   "outputs": [
    {
     "name": "stdout",
     "output_type": "stream",
     "text": [
      "Epoch 1/100\n",
      "214/214 [==============================] - 13s 12ms/step - loss: 5.0257\n",
      "Epoch 2/100\n",
      "214/214 [==============================] - 2s 11ms/step - loss: 4.7250\n",
      "Epoch 3/100\n",
      "214/214 [==============================] - 2s 11ms/step - loss: 4.6947\n",
      "Epoch 4/100\n",
      "214/214 [==============================] - 2s 11ms/step - loss: 4.7028\n",
      "Epoch 5/100\n",
      "214/214 [==============================] - 2s 11ms/step - loss: 4.6897\n",
      "Epoch 6/100\n",
      "214/214 [==============================] - 2s 11ms/step - loss: 4.5534\n",
      "Epoch 7/100\n",
      "214/214 [==============================] - 2s 12ms/step - loss: 4.4567\n",
      "Epoch 8/100\n",
      "214/214 [==============================] - 2s 11ms/step - loss: 4.3958\n",
      "Epoch 9/100\n",
      "214/214 [==============================] - 2s 11ms/step - loss: 4.3757\n",
      "Epoch 10/100\n",
      "214/214 [==============================] - 2s 11ms/step - loss: 4.3140\n",
      "Epoch 11/100\n",
      "214/214 [==============================] - 2s 12ms/step - loss: 4.2956\n",
      "Epoch 12/100\n",
      "214/214 [==============================] - 3s 12ms/step - loss: 4.3037\n",
      "Epoch 13/100\n",
      "214/214 [==============================] - 2s 11ms/step - loss: 4.2650\n",
      "Epoch 14/100\n",
      "214/214 [==============================] - 2s 11ms/step - loss: 4.2383\n",
      "Epoch 15/100\n",
      "214/214 [==============================] - 2s 11ms/step - loss: 4.1744: 0s - loss\n",
      "Epoch 16/100\n",
      "214/214 [==============================] - 2s 11ms/step - loss: 4.1554\n",
      "Epoch 17/100\n",
      "214/214 [==============================] - 2s 11ms/step - loss: 4.0999\n",
      "Epoch 18/100\n",
      "214/214 [==============================] - 4s 18ms/step - loss: 4.0736\n",
      "Epoch 19/100\n",
      "214/214 [==============================] - 4s 21ms/step - loss: 4.0384\n",
      "Epoch 20/100\n",
      "214/214 [==============================] - 3s 12ms/step - loss: 3.9489\n",
      "Epoch 21/100\n",
      "214/214 [==============================] - 2s 11ms/step - loss: 3.9077\n",
      "Epoch 22/100\n",
      "214/214 [==============================] - 4s 19ms/step - loss: 3.9912\n",
      "Epoch 23/100\n",
      "214/214 [==============================] - 2s 11ms/step - loss: 3.8653\n",
      "Epoch 24/100\n",
      "214/214 [==============================] - 2s 11ms/step - loss: 3.8451\n",
      "Epoch 25/100\n",
      "214/214 [==============================] - 2s 11ms/step - loss: 3.7819\n",
      "Epoch 26/100\n",
      "214/214 [==============================] - 2s 11ms/step - loss: 3.6984\n",
      "Epoch 27/100\n",
      "214/214 [==============================] - 2s 12ms/step - loss: 3.6501\n",
      "Epoch 28/100\n",
      "214/214 [==============================] - 4s 19ms/step - loss: 3.7176\n",
      "Epoch 29/100\n",
      "214/214 [==============================] - 2s 11ms/step - loss: 3.5820\n",
      "Epoch 30/100\n",
      "214/214 [==============================] - 5s 21ms/step - loss: 3.5380\n",
      "Epoch 31/100\n",
      "214/214 [==============================] - 3s 16ms/step - loss: 3.5234\n",
      "Epoch 32/100\n",
      "214/214 [==============================] - 3s 15ms/step - loss: 3.4892\n",
      "Epoch 33/100\n",
      "214/214 [==============================] - 2s 11ms/step - loss: 3.5594\n",
      "Epoch 34/100\n",
      "214/214 [==============================] - 2s 11ms/step - loss: 3.4094\n",
      "Epoch 35/100\n",
      "214/214 [==============================] - 3s 14ms/step - loss: 3.3933\n",
      "Epoch 36/100\n",
      "214/214 [==============================] - 4s 18ms/step - loss: 3.3586\n",
      "Epoch 37/100\n",
      "214/214 [==============================] - 2s 12ms/step - loss: 3.3672\n",
      "Epoch 38/100\n",
      "214/214 [==============================] - 3s 12ms/step - loss: 3.2806\n",
      "Epoch 39/100\n",
      "214/214 [==============================] - 2s 12ms/step - loss: 3.2361\n",
      "Epoch 40/100\n",
      "214/214 [==============================] - 2s 12ms/step - loss: 3.3417\n",
      "Epoch 41/100\n",
      "214/214 [==============================] - 2s 12ms/step - loss: 3.2059\n",
      "Epoch 42/100\n",
      "214/214 [==============================] - 2s 12ms/step - loss: 3.1663\n",
      "Epoch 43/100\n",
      "214/214 [==============================] - 3s 12ms/step - loss: 3.1457\n",
      "Epoch 44/100\n",
      "214/214 [==============================] - 3s 13ms/step - loss: 3.1108\n",
      "Epoch 45/100\n",
      "214/214 [==============================] - 3s 12ms/step - loss: 3.0983\n",
      "Epoch 46/100\n",
      "214/214 [==============================] - 2s 11ms/step - loss: 3.0980\n",
      "Epoch 47/100\n",
      "214/214 [==============================] - 2s 12ms/step - loss: 3.0918\n",
      "Epoch 48/100\n",
      "214/214 [==============================] - 4s 20ms/step - loss: 3.0511\n",
      "Epoch 49/100\n",
      "214/214 [==============================] - 2s 11ms/step - loss: 3.0021\n",
      "Epoch 50/100\n",
      "214/214 [==============================] - 2s 12ms/step - loss: 3.0181\n",
      "Epoch 51/100\n",
      "214/214 [==============================] - 2s 12ms/step - loss: 3.0406\n",
      "Epoch 52/100\n",
      "214/214 [==============================] - 2s 11ms/step - loss: 2.9803\n",
      "Epoch 53/100\n",
      "214/214 [==============================] - 3s 12ms/step - loss: 2.9545\n",
      "Epoch 54/100\n",
      "214/214 [==============================] - 2s 12ms/step - loss: 3.0337\n",
      "Epoch 55/100\n",
      "214/214 [==============================] - 2s 12ms/step - loss: 2.9516\n",
      "Epoch 56/100\n",
      "214/214 [==============================] - 2s 12ms/step - loss: 2.9283\n",
      "Epoch 57/100\n",
      "214/214 [==============================] - 2s 12ms/step - loss: 2.8845\n",
      "Epoch 58/100\n",
      "214/214 [==============================] - 2s 12ms/step - loss: 2.8662\n",
      "Epoch 59/100\n",
      "214/214 [==============================] - 2s 12ms/step - loss: 2.8784\n",
      "Epoch 60/100\n",
      "214/214 [==============================] - 3s 12ms/step - loss: 2.9459\n",
      "Epoch 61/100\n",
      "214/214 [==============================] - 3s 12ms/step - loss: 2.8235\n",
      "Epoch 62/100\n",
      "214/214 [==============================] - 2s 12ms/step - loss: 2.8415\n",
      "Epoch 63/100\n",
      "214/214 [==============================] - 3s 12ms/step - loss: 2.8054\n",
      "Epoch 64/100\n",
      "214/214 [==============================] - 3s 12ms/step - loss: 2.8139\n",
      "Epoch 65/100\n",
      "214/214 [==============================] - 2s 12ms/step - loss: 2.7848\n",
      "Epoch 66/100\n",
      "214/214 [==============================] - 3s 12ms/step - loss: 2.8184\n",
      "Epoch 67/100\n",
      "214/214 [==============================] - 3s 12ms/step - loss: 2.8737: 0s -\n",
      "Epoch 68/100\n",
      "214/214 [==============================] - 3s 12ms/step - loss: 2.7541\n",
      "Epoch 69/100\n",
      "214/214 [==============================] - 3s 12ms/step - loss: 2.7692\n",
      "Epoch 70/100\n",
      "214/214 [==============================] - 3s 12ms/step - loss: 2.7253\n",
      "Epoch 71/100\n",
      "214/214 [==============================] - 3s 12ms/step - loss: 2.7549\n",
      "Epoch 72/100\n",
      "214/214 [==============================] - 3s 14ms/step - loss: 2.7464\n",
      "Epoch 73/100\n",
      "214/214 [==============================] - 3s 12ms/step - loss: 2.7352\n",
      "Epoch 74/100\n",
      "214/214 [==============================] - 3s 12ms/step - loss: 2.6924\n",
      "Epoch 75/100\n",
      "214/214 [==============================] - 3s 12ms/step - loss: 2.7234\n",
      "Epoch 76/100\n",
      "214/214 [==============================] - 2s 12ms/step - loss: 2.8486\n",
      "Epoch 77/100\n",
      "214/214 [==============================] - 2s 12ms/step - loss: 2.7289\n",
      "Epoch 78/100\n",
      "214/214 [==============================] - 3s 12ms/step - loss: 2.6905\n",
      "Epoch 79/100\n",
      "214/214 [==============================] - 4s 21ms/step - loss: 2.6742\n",
      "Epoch 80/100\n",
      "214/214 [==============================] - 2s 12ms/step - loss: 2.6548\n",
      "Epoch 81/100\n",
      "214/214 [==============================] - 3s 12ms/step - loss: 2.6910\n",
      "Epoch 82/100\n",
      "214/214 [==============================] - 3s 12ms/step - loss: 2.6511\n",
      "Epoch 83/100\n",
      "214/214 [==============================] - 3s 12ms/step - loss: 2.6301\n",
      "Epoch 84/100\n",
      "214/214 [==============================] - 3s 12ms/step - loss: 2.6673\n",
      "Epoch 85/100\n",
      "214/214 [==============================] - 3s 12ms/step - loss: 2.6453\n",
      "Epoch 86/100\n",
      "214/214 [==============================] - 3s 12ms/step - loss: 2.6488\n",
      "Epoch 87/100\n",
      "214/214 [==============================] - 4s 19ms/step - loss: 2.5735\n",
      "Epoch 88/100\n",
      "214/214 [==============================] - 3s 12ms/step - loss: 2.6275\n",
      "Epoch 89/100\n",
      "214/214 [==============================] - 3s 12ms/step - loss: 2.5625\n",
      "Epoch 90/100\n",
      "214/214 [==============================] - 3s 12ms/step - loss: 2.5893\n",
      "Epoch 91/100\n",
      "214/214 [==============================] - 4s 20ms/step - loss: 2.5778\n",
      "Epoch 92/100\n",
      "214/214 [==============================] - 3s 12ms/step - loss: 2.5495\n",
      "Epoch 93/100\n",
      "214/214 [==============================] - 3s 12ms/step - loss: 2.5341\n",
      "Epoch 94/100\n",
      "214/214 [==============================] - 3s 12ms/step - loss: 2.5487\n",
      "Epoch 95/100\n",
      "214/214 [==============================] - 3s 12ms/step - loss: 2.5675\n",
      "Epoch 96/100\n",
      "214/214 [==============================] - 3s 12ms/step - loss: 2.5213\n",
      "Epoch 97/100\n",
      "214/214 [==============================] - 4s 20ms/step - loss: 2.5534\n",
      "Epoch 98/100\n",
      "214/214 [==============================] - 3s 12ms/step - loss: 2.5320\n",
      "Epoch 99/100\n",
      "214/214 [==============================] - 2s 12ms/step - loss: 2.5559\n",
      "Epoch 100/100\n",
      "214/214 [==============================] - 4s 18ms/step - loss: 2.5060\n"
     ]
    }
   ],
   "source": [
    "model.compile(loss = 'categorical_crossentropy', optimizer = 'adam')\n",
    "history = model.fit(network_in_array, network_out, epochs = 100)"
   ]
  },
  {
   "cell_type": "code",
   "execution_count": 12,
   "metadata": {},
   "outputs": [],
   "source": [
    "model.save_weights('model_weights.h5')"
   ]
  },
  {
   "cell_type": "code",
   "execution_count": 13,
   "metadata": {},
   "outputs": [],
   "source": [
    "start = np.random.randint(0, len(network_in)-1)\n",
    "int_to_pair = dict((number,pair) for number, pair in enumerate(pairings))\n",
    "\n",
    "pattern = network_in[start]\n",
    "pred_out = []\n",
    "\n",
    "for note_index in range(500):\n",
    "    pred_in = np.reshape(pattern, (1, len(pattern),1)) / float(n_vocab)\n",
    "    prediction = model.predict(pred_in, verbose = 0)\n",
    "    \n",
    "    index = np.random.choice(np.arange(n_vocab), p=prediction.reshape(n_vocab))\n",
    "    result = int_to_pair[index]\n",
    "    pred_out.append(result)\n",
    "    \n",
    "    pattern.append(index)\n",
    "    pattern = pattern[1:len(pattern)]\n",
    "    \n",
    "offset = 0\n",
    "output_notes = []\n",
    "\n",
    "for pattern in pred_out:\n",
    "    if ('.' in pattern[0]) or pattern[0].isdigit():\n",
    "        notes_in_chord = pattern[0].split('.')\n",
    "        notes = []\n",
    "        for current_note in notes_in_chord:\n",
    "            new_note = note.Note(int(current_note))\n",
    "            new_note.storedInstrument = instrument.ElectricGuitar()\n",
    "            notes.append(new_note)\n",
    "        new_chord = chord.Chord(notes)\n",
    "        new_chord.offset = offset\n",
    "        output_notes.append(new_chord)\n",
    "    else:\n",
    "        new_note = note.Note(pattern[0])\n",
    "        new_note.offset = offset\n",
    "        new_note.storedInstrument = instrument.ElectricGuitar()\n",
    "        output_notes.append(new_note)\n",
    "    offset += pattern[1]"
   ]
  },
  {
   "cell_type": "code",
   "execution_count": 14,
   "metadata": {},
   "outputs": [
    {
     "data": {
      "text/plain": [
       "'test_out.mid'"
      ]
     },
     "execution_count": 14,
     "metadata": {},
     "output_type": "execute_result"
    }
   ],
   "source": [
    "midi_stream = music21.stream.Stream(output_notes)\n",
    "midi_stream.write('midi', fp = 'test_out.mid')"
   ]
  }
 ],
 "metadata": {
  "kernelspec": {
   "display_name": "Python 3",
   "language": "python",
   "name": "python3"
  },
  "language_info": {
   "codemirror_mode": {
    "name": "ipython",
    "version": 3
   },
   "file_extension": ".py",
   "mimetype": "text/x-python",
   "name": "python",
   "nbconvert_exporter": "python",
   "pygments_lexer": "ipython3",
   "version": "3.6.7"
  }
 },
 "nbformat": 4,
 "nbformat_minor": 4
}
