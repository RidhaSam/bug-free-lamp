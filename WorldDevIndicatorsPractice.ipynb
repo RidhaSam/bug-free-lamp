{
 "cells": [
  {
   "cell_type": "markdown",
   "metadata": {},
   "source": [
    "The dataset used is the World Development Indicators dataset found at https://www.kaggle.com/worldbank/world-development-indicators."
   ]
  },
  {
   "cell_type": "code",
   "execution_count": 37,
   "metadata": {},
   "outputs": [],
   "source": [
    "import random\n",
    "import numpy as np\n",
    "import pandas as pd\n",
    "from matplotlib import pyplot as plt"
   ]
  },
  {
   "cell_type": "code",
   "execution_count": 4,
   "metadata": {},
   "outputs": [
    {
     "data": {
      "text/plain": [
       "(5656458, 6)"
      ]
     },
     "execution_count": 4,
     "metadata": {},
     "output_type": "execute_result"
    }
   ],
   "source": [
    "data = pd.read_csv(\".\\Indicators.csv\")\n",
    "data.shape"
   ]
  },
  {
   "cell_type": "code",
   "execution_count": 7,
   "metadata": {},
   "outputs": [],
   "source": [
    "df = pd.DataFrame(data)"
   ]
  },
  {
   "cell_type": "code",
   "execution_count": 8,
   "metadata": {},
   "outputs": [
    {
     "data": {
      "text/html": [
       "<div>\n",
       "<style scoped>\n",
       "    .dataframe tbody tr th:only-of-type {\n",
       "        vertical-align: middle;\n",
       "    }\n",
       "\n",
       "    .dataframe tbody tr th {\n",
       "        vertical-align: top;\n",
       "    }\n",
       "\n",
       "    .dataframe thead th {\n",
       "        text-align: right;\n",
       "    }\n",
       "</style>\n",
       "<table border=\"1\" class=\"dataframe\">\n",
       "  <thead>\n",
       "    <tr style=\"text-align: right;\">\n",
       "      <th></th>\n",
       "      <th>CountryName</th>\n",
       "      <th>CountryCode</th>\n",
       "      <th>IndicatorName</th>\n",
       "      <th>IndicatorCode</th>\n",
       "      <th>Year</th>\n",
       "      <th>Value</th>\n",
       "    </tr>\n",
       "  </thead>\n",
       "  <tbody>\n",
       "    <tr>\n",
       "      <td>0</td>\n",
       "      <td>Arab World</td>\n",
       "      <td>ARB</td>\n",
       "      <td>Adolescent fertility rate (births per 1,000 wo...</td>\n",
       "      <td>SP.ADO.TFRT</td>\n",
       "      <td>1960</td>\n",
       "      <td>1.335609e+02</td>\n",
       "    </tr>\n",
       "    <tr>\n",
       "      <td>1</td>\n",
       "      <td>Arab World</td>\n",
       "      <td>ARB</td>\n",
       "      <td>Age dependency ratio (% of working-age populat...</td>\n",
       "      <td>SP.POP.DPND</td>\n",
       "      <td>1960</td>\n",
       "      <td>8.779760e+01</td>\n",
       "    </tr>\n",
       "    <tr>\n",
       "      <td>2</td>\n",
       "      <td>Arab World</td>\n",
       "      <td>ARB</td>\n",
       "      <td>Age dependency ratio, old (% of working-age po...</td>\n",
       "      <td>SP.POP.DPND.OL</td>\n",
       "      <td>1960</td>\n",
       "      <td>6.634579e+00</td>\n",
       "    </tr>\n",
       "    <tr>\n",
       "      <td>3</td>\n",
       "      <td>Arab World</td>\n",
       "      <td>ARB</td>\n",
       "      <td>Age dependency ratio, young (% of working-age ...</td>\n",
       "      <td>SP.POP.DPND.YG</td>\n",
       "      <td>1960</td>\n",
       "      <td>8.102333e+01</td>\n",
       "    </tr>\n",
       "    <tr>\n",
       "      <td>4</td>\n",
       "      <td>Arab World</td>\n",
       "      <td>ARB</td>\n",
       "      <td>Arms exports (SIPRI trend indicator values)</td>\n",
       "      <td>MS.MIL.XPRT.KD</td>\n",
       "      <td>1960</td>\n",
       "      <td>3.000000e+06</td>\n",
       "    </tr>\n",
       "  </tbody>\n",
       "</table>\n",
       "</div>"
      ],
      "text/plain": [
       "  CountryName CountryCode                                      IndicatorName  \\\n",
       "0  Arab World         ARB  Adolescent fertility rate (births per 1,000 wo...   \n",
       "1  Arab World         ARB  Age dependency ratio (% of working-age populat...   \n",
       "2  Arab World         ARB  Age dependency ratio, old (% of working-age po...   \n",
       "3  Arab World         ARB  Age dependency ratio, young (% of working-age ...   \n",
       "4  Arab World         ARB        Arms exports (SIPRI trend indicator values)   \n",
       "\n",
       "    IndicatorCode  Year         Value  \n",
       "0     SP.ADO.TFRT  1960  1.335609e+02  \n",
       "1     SP.POP.DPND  1960  8.779760e+01  \n",
       "2  SP.POP.DPND.OL  1960  6.634579e+00  \n",
       "3  SP.POP.DPND.YG  1960  8.102333e+01  \n",
       "4  MS.MIL.XPRT.KD  1960  3.000000e+06  "
      ]
     },
     "execution_count": 8,
     "metadata": {},
     "output_type": "execute_result"
    }
   ],
   "source": [
    "df.head()"
   ]
  },
  {
   "cell_type": "code",
   "execution_count": 9,
   "metadata": {},
   "outputs": [
    {
     "data": {
      "text/plain": [
       "CountryName      False\n",
       "CountryCode      False\n",
       "IndicatorName    False\n",
       "IndicatorCode    False\n",
       "Year             False\n",
       "Value            False\n",
       "dtype: bool"
      ]
     },
     "execution_count": 9,
     "metadata": {},
     "output_type": "execute_result"
    }
   ],
   "source": [
    "df.isnull().any()"
   ]
  },
  {
   "cell_type": "code",
   "execution_count": 11,
   "metadata": {},
   "outputs": [],
   "source": [
    "countries = df['CountryName'].unique().tolist()"
   ]
  },
  {
   "cell_type": "code",
   "execution_count": 13,
   "metadata": {},
   "outputs": [
    {
     "data": {
      "text/plain": [
       "True"
      ]
     },
     "execution_count": 13,
     "metadata": {},
     "output_type": "execute_result"
    }
   ],
   "source": [
    "'Euro area' in countries"
   ]
  },
  {
   "cell_type": "code",
   "execution_count": 15,
   "metadata": {},
   "outputs": [
    {
     "data": {
      "text/plain": [
       "True"
      ]
     },
     "execution_count": 15,
     "metadata": {},
     "output_type": "execute_result"
    }
   ],
   "source": [
    "'United States' in countries"
   ]
  },
  {
   "cell_type": "code",
   "execution_count": 20,
   "metadata": {},
   "outputs": [],
   "source": [
    "usaData = df.loc[df['CountryName'] == 'United States']"
   ]
  },
  {
   "cell_type": "code",
   "execution_count": 21,
   "metadata": {},
   "outputs": [
    {
     "data": {
      "text/html": [
       "<div>\n",
       "<style scoped>\n",
       "    .dataframe tbody tr th:only-of-type {\n",
       "        vertical-align: middle;\n",
       "    }\n",
       "\n",
       "    .dataframe tbody tr th {\n",
       "        vertical-align: top;\n",
       "    }\n",
       "\n",
       "    .dataframe thead th {\n",
       "        text-align: right;\n",
       "    }\n",
       "</style>\n",
       "<table border=\"1\" class=\"dataframe\">\n",
       "  <thead>\n",
       "    <tr style=\"text-align: right;\">\n",
       "      <th></th>\n",
       "      <th>CountryName</th>\n",
       "      <th>CountryCode</th>\n",
       "      <th>IndicatorName</th>\n",
       "      <th>IndicatorCode</th>\n",
       "      <th>Year</th>\n",
       "      <th>Value</th>\n",
       "    </tr>\n",
       "  </thead>\n",
       "  <tbody>\n",
       "    <tr>\n",
       "      <td>22220</td>\n",
       "      <td>United States</td>\n",
       "      <td>USA</td>\n",
       "      <td>Adolescent fertility rate (births per 1,000 wo...</td>\n",
       "      <td>SP.ADO.TFRT</td>\n",
       "      <td>1960</td>\n",
       "      <td>84.987200</td>\n",
       "    </tr>\n",
       "    <tr>\n",
       "      <td>22221</td>\n",
       "      <td>United States</td>\n",
       "      <td>USA</td>\n",
       "      <td>Age dependency ratio (% of working-age populat...</td>\n",
       "      <td>SP.POP.DPND</td>\n",
       "      <td>1960</td>\n",
       "      <td>66.524844</td>\n",
       "    </tr>\n",
       "    <tr>\n",
       "      <td>22222</td>\n",
       "      <td>United States</td>\n",
       "      <td>USA</td>\n",
       "      <td>Age dependency ratio, old (% of working-age po...</td>\n",
       "      <td>SP.POP.DPND.OL</td>\n",
       "      <td>1960</td>\n",
       "      <td>15.230264</td>\n",
       "    </tr>\n",
       "    <tr>\n",
       "      <td>22223</td>\n",
       "      <td>United States</td>\n",
       "      <td>USA</td>\n",
       "      <td>Age dependency ratio, young (% of working-age ...</td>\n",
       "      <td>SP.POP.DPND.YG</td>\n",
       "      <td>1960</td>\n",
       "      <td>51.294580</td>\n",
       "    </tr>\n",
       "    <tr>\n",
       "      <td>22224</td>\n",
       "      <td>United States</td>\n",
       "      <td>USA</td>\n",
       "      <td>Alternative and nuclear energy (% of total ene...</td>\n",
       "      <td>EG.USE.COMM.CL.ZS</td>\n",
       "      <td>1960</td>\n",
       "      <td>1.261261</td>\n",
       "    </tr>\n",
       "  </tbody>\n",
       "</table>\n",
       "</div>"
      ],
      "text/plain": [
       "         CountryName CountryCode  \\\n",
       "22220  United States         USA   \n",
       "22221  United States         USA   \n",
       "22222  United States         USA   \n",
       "22223  United States         USA   \n",
       "22224  United States         USA   \n",
       "\n",
       "                                           IndicatorName      IndicatorCode  \\\n",
       "22220  Adolescent fertility rate (births per 1,000 wo...        SP.ADO.TFRT   \n",
       "22221  Age dependency ratio (% of working-age populat...        SP.POP.DPND   \n",
       "22222  Age dependency ratio, old (% of working-age po...     SP.POP.DPND.OL   \n",
       "22223  Age dependency ratio, young (% of working-age ...     SP.POP.DPND.YG   \n",
       "22224  Alternative and nuclear energy (% of total ene...  EG.USE.COMM.CL.ZS   \n",
       "\n",
       "       Year      Value  \n",
       "22220  1960  84.987200  \n",
       "22221  1960  66.524844  \n",
       "22222  1960  15.230264  \n",
       "22223  1960  51.294580  \n",
       "22224  1960   1.261261  "
      ]
     },
     "execution_count": 21,
     "metadata": {},
     "output_type": "execute_result"
    }
   ],
   "source": [
    "usaData.head()"
   ]
  },
  {
   "cell_type": "code",
   "execution_count": 26,
   "metadata": {},
   "outputs": [],
   "source": [
    "usaData = usaData.loc[usaData['IndicatorName'] == 'GDP at market prices (current US$)']"
   ]
  },
  {
   "cell_type": "code",
   "execution_count": 29,
   "metadata": {},
   "outputs": [],
   "source": [
    "usaData = usaData.loc[usaData['Year'] >= 2000]"
   ]
  },
  {
   "cell_type": "code",
   "execution_count": 30,
   "metadata": {},
   "outputs": [
    {
     "data": {
      "text/html": [
       "<div>\n",
       "<style scoped>\n",
       "    .dataframe tbody tr th:only-of-type {\n",
       "        vertical-align: middle;\n",
       "    }\n",
       "\n",
       "    .dataframe tbody tr th {\n",
       "        vertical-align: top;\n",
       "    }\n",
       "\n",
       "    .dataframe thead th {\n",
       "        text-align: right;\n",
       "    }\n",
       "</style>\n",
       "<table border=\"1\" class=\"dataframe\">\n",
       "  <thead>\n",
       "    <tr style=\"text-align: right;\">\n",
       "      <th></th>\n",
       "      <th>CountryName</th>\n",
       "      <th>CountryCode</th>\n",
       "      <th>IndicatorName</th>\n",
       "      <th>IndicatorCode</th>\n",
       "      <th>Year</th>\n",
       "      <th>Value</th>\n",
       "    </tr>\n",
       "  </thead>\n",
       "  <tbody>\n",
       "    <tr>\n",
       "      <td>3319019</td>\n",
       "      <td>United States</td>\n",
       "      <td>USA</td>\n",
       "      <td>GDP at market prices (current US$)</td>\n",
       "      <td>NY.GDP.MKTP.CD</td>\n",
       "      <td>2000</td>\n",
       "      <td>1.028478e+13</td>\n",
       "    </tr>\n",
       "    <tr>\n",
       "      <td>3469666</td>\n",
       "      <td>United States</td>\n",
       "      <td>USA</td>\n",
       "      <td>GDP at market prices (current US$)</td>\n",
       "      <td>NY.GDP.MKTP.CD</td>\n",
       "      <td>2001</td>\n",
       "      <td>1.062182e+13</td>\n",
       "    </tr>\n",
       "    <tr>\n",
       "      <td>3624308</td>\n",
       "      <td>United States</td>\n",
       "      <td>USA</td>\n",
       "      <td>GDP at market prices (current US$)</td>\n",
       "      <td>NY.GDP.MKTP.CD</td>\n",
       "      <td>2002</td>\n",
       "      <td>1.097751e+13</td>\n",
       "    </tr>\n",
       "    <tr>\n",
       "      <td>3778077</td>\n",
       "      <td>United States</td>\n",
       "      <td>USA</td>\n",
       "      <td>GDP at market prices (current US$)</td>\n",
       "      <td>NY.GDP.MKTP.CD</td>\n",
       "      <td>2003</td>\n",
       "      <td>1.151067e+13</td>\n",
       "    </tr>\n",
       "    <tr>\n",
       "      <td>3935820</td>\n",
       "      <td>United States</td>\n",
       "      <td>USA</td>\n",
       "      <td>GDP at market prices (current US$)</td>\n",
       "      <td>NY.GDP.MKTP.CD</td>\n",
       "      <td>2004</td>\n",
       "      <td>1.227493e+13</td>\n",
       "    </tr>\n",
       "    <tr>\n",
       "      <td>4115440</td>\n",
       "      <td>United States</td>\n",
       "      <td>USA</td>\n",
       "      <td>GDP at market prices (current US$)</td>\n",
       "      <td>NY.GDP.MKTP.CD</td>\n",
       "      <td>2005</td>\n",
       "      <td>1.309373e+13</td>\n",
       "    </tr>\n",
       "    <tr>\n",
       "      <td>4292634</td>\n",
       "      <td>United States</td>\n",
       "      <td>USA</td>\n",
       "      <td>GDP at market prices (current US$)</td>\n",
       "      <td>NY.GDP.MKTP.CD</td>\n",
       "      <td>2006</td>\n",
       "      <td>1.385589e+13</td>\n",
       "    </tr>\n",
       "    <tr>\n",
       "      <td>4472956</td>\n",
       "      <td>United States</td>\n",
       "      <td>USA</td>\n",
       "      <td>GDP at market prices (current US$)</td>\n",
       "      <td>NY.GDP.MKTP.CD</td>\n",
       "      <td>2007</td>\n",
       "      <td>1.447764e+13</td>\n",
       "    </tr>\n",
       "    <tr>\n",
       "      <td>4652800</td>\n",
       "      <td>United States</td>\n",
       "      <td>USA</td>\n",
       "      <td>GDP at market prices (current US$)</td>\n",
       "      <td>NY.GDP.MKTP.CD</td>\n",
       "      <td>2008</td>\n",
       "      <td>1.471858e+13</td>\n",
       "    </tr>\n",
       "    <tr>\n",
       "      <td>4831462</td>\n",
       "      <td>United States</td>\n",
       "      <td>USA</td>\n",
       "      <td>GDP at market prices (current US$)</td>\n",
       "      <td>NY.GDP.MKTP.CD</td>\n",
       "      <td>2009</td>\n",
       "      <td>1.441874e+13</td>\n",
       "    </tr>\n",
       "    <tr>\n",
       "      <td>5018179</td>\n",
       "      <td>United States</td>\n",
       "      <td>USA</td>\n",
       "      <td>GDP at market prices (current US$)</td>\n",
       "      <td>NY.GDP.MKTP.CD</td>\n",
       "      <td>2010</td>\n",
       "      <td>1.496437e+13</td>\n",
       "    </tr>\n",
       "    <tr>\n",
       "      <td>5194858</td>\n",
       "      <td>United States</td>\n",
       "      <td>USA</td>\n",
       "      <td>GDP at market prices (current US$)</td>\n",
       "      <td>NY.GDP.MKTP.CD</td>\n",
       "      <td>2011</td>\n",
       "      <td>1.551793e+13</td>\n",
       "    </tr>\n",
       "    <tr>\n",
       "      <td>5370005</td>\n",
       "      <td>United States</td>\n",
       "      <td>USA</td>\n",
       "      <td>GDP at market prices (current US$)</td>\n",
       "      <td>NY.GDP.MKTP.CD</td>\n",
       "      <td>2012</td>\n",
       "      <td>1.616316e+13</td>\n",
       "    </tr>\n",
       "    <tr>\n",
       "      <td>5527435</td>\n",
       "      <td>United States</td>\n",
       "      <td>USA</td>\n",
       "      <td>GDP at market prices (current US$)</td>\n",
       "      <td>NY.GDP.MKTP.CD</td>\n",
       "      <td>2013</td>\n",
       "      <td>1.676805e+13</td>\n",
       "    </tr>\n",
       "    <tr>\n",
       "      <td>5637320</td>\n",
       "      <td>United States</td>\n",
       "      <td>USA</td>\n",
       "      <td>GDP at market prices (current US$)</td>\n",
       "      <td>NY.GDP.MKTP.CD</td>\n",
       "      <td>2014</td>\n",
       "      <td>1.741900e+13</td>\n",
       "    </tr>\n",
       "  </tbody>\n",
       "</table>\n",
       "</div>"
      ],
      "text/plain": [
       "           CountryName CountryCode                       IndicatorName  \\\n",
       "3319019  United States         USA  GDP at market prices (current US$)   \n",
       "3469666  United States         USA  GDP at market prices (current US$)   \n",
       "3624308  United States         USA  GDP at market prices (current US$)   \n",
       "3778077  United States         USA  GDP at market prices (current US$)   \n",
       "3935820  United States         USA  GDP at market prices (current US$)   \n",
       "4115440  United States         USA  GDP at market prices (current US$)   \n",
       "4292634  United States         USA  GDP at market prices (current US$)   \n",
       "4472956  United States         USA  GDP at market prices (current US$)   \n",
       "4652800  United States         USA  GDP at market prices (current US$)   \n",
       "4831462  United States         USA  GDP at market prices (current US$)   \n",
       "5018179  United States         USA  GDP at market prices (current US$)   \n",
       "5194858  United States         USA  GDP at market prices (current US$)   \n",
       "5370005  United States         USA  GDP at market prices (current US$)   \n",
       "5527435  United States         USA  GDP at market prices (current US$)   \n",
       "5637320  United States         USA  GDP at market prices (current US$)   \n",
       "\n",
       "          IndicatorCode  Year         Value  \n",
       "3319019  NY.GDP.MKTP.CD  2000  1.028478e+13  \n",
       "3469666  NY.GDP.MKTP.CD  2001  1.062182e+13  \n",
       "3624308  NY.GDP.MKTP.CD  2002  1.097751e+13  \n",
       "3778077  NY.GDP.MKTP.CD  2003  1.151067e+13  \n",
       "3935820  NY.GDP.MKTP.CD  2004  1.227493e+13  \n",
       "4115440  NY.GDP.MKTP.CD  2005  1.309373e+13  \n",
       "4292634  NY.GDP.MKTP.CD  2006  1.385589e+13  \n",
       "4472956  NY.GDP.MKTP.CD  2007  1.447764e+13  \n",
       "4652800  NY.GDP.MKTP.CD  2008  1.471858e+13  \n",
       "4831462  NY.GDP.MKTP.CD  2009  1.441874e+13  \n",
       "5018179  NY.GDP.MKTP.CD  2010  1.496437e+13  \n",
       "5194858  NY.GDP.MKTP.CD  2011  1.551793e+13  \n",
       "5370005  NY.GDP.MKTP.CD  2012  1.616316e+13  \n",
       "5527435  NY.GDP.MKTP.CD  2013  1.676805e+13  \n",
       "5637320  NY.GDP.MKTP.CD  2014  1.741900e+13  "
      ]
     },
     "execution_count": 30,
     "metadata": {},
     "output_type": "execute_result"
    }
   ],
   "source": [
    "usaData"
   ]
  },
  {
   "cell_type": "code",
   "execution_count": 33,
   "metadata": {},
   "outputs": [],
   "source": [
    "years = usaData['Year'].tolist()\n",
    "gdp = usaData['Value'].tolist()"
   ]
  },
  {
   "cell_type": "code",
   "execution_count": 40,
   "metadata": {},
   "outputs": [
    {
     "data": {
      "text/plain": [
       "Text(0, 0.5, 'GDP (USD)')"
      ]
     },
     "execution_count": 40,
     "metadata": {},
     "output_type": "execute_result"
    },
    {
     "data": {
      "image/png": "[encoded data removed]",
      "text/plain": [
       "<Figure size 432x288 with 1 Axes>"
      ]
     },
     "metadata": {
      "needs_background": "light"
     },
     "output_type": "display_data"
    }
   ],
   "source": [
    "plt.scatter(years, gdp, marker = 'o')\n",
    "plt.title('USA GDP (USD) over time')\n",
    "plt.xlabel('Year')\n",
    "plt.ylabel('GDP (USD)')"
   ]
  },
  {
   "cell_type": "code",
   "execution_count": 41,
   "metadata": {},
   "outputs": [
    {
     "data": {
      "text/plain": [
       "True"
      ]
     },
     "execution_count": 41,
     "metadata": {},
     "output_type": "execute_result"
    }
   ],
   "source": [
    "'India' in countries"
   ]
  },
  {
   "cell_type": "code",
   "execution_count": 43,
   "metadata": {},
   "outputs": [],
   "source": [
    "indDf = df.loc[df['CountryName'] == 'India']\n",
    "indGDP = indDf.loc[indDf['IndicatorName'] == 'GDP at market prices (current US$)']\n",
    "indCO2 = indDf.loc[indDf['IndicatorName'] == 'CO2 emissions (kt)']"
   ]
  },
  {
   "cell_type": "code",
   "execution_count": 47,
   "metadata": {},
   "outputs": [
    {
     "data": {
      "text/html": [
       "<div>\n",
       "<style scoped>\n",
       "    .dataframe tbody tr th:only-of-type {\n",
       "        vertical-align: middle;\n",
       "    }\n",
       "\n",
       "    .dataframe tbody tr th {\n",
       "        vertical-align: top;\n",
       "    }\n",
       "\n",
       "    .dataframe thead th {\n",
       "        text-align: right;\n",
       "    }\n",
       "</style>\n",
       "<table border=\"1\" class=\"dataframe\">\n",
       "  <thead>\n",
       "    <tr style=\"text-align: right;\">\n",
       "      <th></th>\n",
       "      <th>CountryName</th>\n",
       "      <th>CountryCode</th>\n",
       "      <th>IndicatorName</th>\n",
       "      <th>IndicatorCode</th>\n",
       "      <th>Year</th>\n",
       "      <th>Value</th>\n",
       "    </tr>\n",
       "  </thead>\n",
       "  <tbody>\n",
       "    <tr>\n",
       "      <td>11576</td>\n",
       "      <td>India</td>\n",
       "      <td>IND</td>\n",
       "      <td>CO2 emissions (kt)</td>\n",
       "      <td>EN.ATM.CO2E.KT</td>\n",
       "      <td>1960</td>\n",
       "      <td>120581.961</td>\n",
       "    </tr>\n",
       "    <tr>\n",
       "      <td>36512</td>\n",
       "      <td>India</td>\n",
       "      <td>IND</td>\n",
       "      <td>CO2 emissions (kt)</td>\n",
       "      <td>EN.ATM.CO2E.KT</td>\n",
       "      <td>1961</td>\n",
       "      <td>130402.187</td>\n",
       "    </tr>\n",
       "    <tr>\n",
       "      <td>64048</td>\n",
       "      <td>India</td>\n",
       "      <td>IND</td>\n",
       "      <td>CO2 emissions (kt)</td>\n",
       "      <td>EN.ATM.CO2E.KT</td>\n",
       "      <td>1962</td>\n",
       "      <td>143467.708</td>\n",
       "    </tr>\n",
       "    <tr>\n",
       "      <td>92492</td>\n",
       "      <td>India</td>\n",
       "      <td>IND</td>\n",
       "      <td>CO2 emissions (kt)</td>\n",
       "      <td>EN.ATM.CO2E.KT</td>\n",
       "      <td>1963</td>\n",
       "      <td>154083.673</td>\n",
       "    </tr>\n",
       "    <tr>\n",
       "      <td>121289</td>\n",
       "      <td>India</td>\n",
       "      <td>IND</td>\n",
       "      <td>CO2 emissions (kt)</td>\n",
       "      <td>EN.ATM.CO2E.KT</td>\n",
       "      <td>1964</td>\n",
       "      <td>150647.694</td>\n",
       "    </tr>\n",
       "  </tbody>\n",
       "</table>\n",
       "</div>"
      ],
      "text/plain": [
       "       CountryName CountryCode       IndicatorName   IndicatorCode  Year  \\\n",
       "11576        India         IND  CO2 emissions (kt)  EN.ATM.CO2E.KT  1960   \n",
       "36512        India         IND  CO2 emissions (kt)  EN.ATM.CO2E.KT  1961   \n",
       "64048        India         IND  CO2 emissions (kt)  EN.ATM.CO2E.KT  1962   \n",
       "92492        India         IND  CO2 emissions (kt)  EN.ATM.CO2E.KT  1963   \n",
       "121289       India         IND  CO2 emissions (kt)  EN.ATM.CO2E.KT  1964   \n",
       "\n",
       "             Value  \n",
       "11576   120581.961  \n",
       "36512   130402.187  \n",
       "64048   143467.708  \n",
       "92492   154083.673  \n",
       "121289  150647.694  "
      ]
     },
     "execution_count": 47,
     "metadata": {},
     "output_type": "execute_result"
    }
   ],
   "source": [
    "indCO2.head()"
   ]
  },
  {
   "cell_type": "code",
   "execution_count": 50,
   "metadata": {},
   "outputs": [
    {
     "data": {
      "text/html": [
       "<div>\n",
       "<style scoped>\n",
       "    .dataframe tbody tr th:only-of-type {\n",
       "        vertical-align: middle;\n",
       "    }\n",
       "\n",
       "    .dataframe tbody tr th {\n",
       "        vertical-align: top;\n",
       "    }\n",
       "\n",
       "    .dataframe thead th {\n",
       "        text-align: right;\n",
       "    }\n",
       "</style>\n",
       "<table border=\"1\" class=\"dataframe\">\n",
       "  <thead>\n",
       "    <tr style=\"text-align: right;\">\n",
       "      <th></th>\n",
       "      <th>CountryName</th>\n",
       "      <th>CountryCode</th>\n",
       "      <th>IndicatorName</th>\n",
       "      <th>IndicatorCode</th>\n",
       "      <th>Year</th>\n",
       "      <th>Value</th>\n",
       "    </tr>\n",
       "  </thead>\n",
       "  <tbody>\n",
       "    <tr>\n",
       "      <td>11614</td>\n",
       "      <td>India</td>\n",
       "      <td>IND</td>\n",
       "      <td>GDP at market prices (current US$)</td>\n",
       "      <td>NY.GDP.MKTP.CD</td>\n",
       "      <td>1960</td>\n",
       "      <td>3.767927e+10</td>\n",
       "    </tr>\n",
       "    <tr>\n",
       "      <td>36552</td>\n",
       "      <td>India</td>\n",
       "      <td>IND</td>\n",
       "      <td>GDP at market prices (current US$)</td>\n",
       "      <td>NY.GDP.MKTP.CD</td>\n",
       "      <td>1961</td>\n",
       "      <td>3.992045e+10</td>\n",
       "    </tr>\n",
       "    <tr>\n",
       "      <td>64092</td>\n",
       "      <td>India</td>\n",
       "      <td>IND</td>\n",
       "      <td>GDP at market prices (current US$)</td>\n",
       "      <td>NY.GDP.MKTP.CD</td>\n",
       "      <td>1962</td>\n",
       "      <td>4.290086e+10</td>\n",
       "    </tr>\n",
       "    <tr>\n",
       "      <td>92537</td>\n",
       "      <td>India</td>\n",
       "      <td>IND</td>\n",
       "      <td>GDP at market prices (current US$)</td>\n",
       "      <td>NY.GDP.MKTP.CD</td>\n",
       "      <td>1963</td>\n",
       "      <td>4.927110e+10</td>\n",
       "    </tr>\n",
       "    <tr>\n",
       "      <td>121334</td>\n",
       "      <td>India</td>\n",
       "      <td>IND</td>\n",
       "      <td>GDP at market prices (current US$)</td>\n",
       "      <td>NY.GDP.MKTP.CD</td>\n",
       "      <td>1964</td>\n",
       "      <td>5.747078e+10</td>\n",
       "    </tr>\n",
       "  </tbody>\n",
       "</table>\n",
       "</div>"
      ],
      "text/plain": [
       "       CountryName CountryCode                       IndicatorName  \\\n",
       "11614        India         IND  GDP at market prices (current US$)   \n",
       "36552        India         IND  GDP at market prices (current US$)   \n",
       "64092        India         IND  GDP at market prices (current US$)   \n",
       "92537        India         IND  GDP at market prices (current US$)   \n",
       "121334       India         IND  GDP at market prices (current US$)   \n",
       "\n",
       "         IndicatorCode  Year         Value  \n",
       "11614   NY.GDP.MKTP.CD  1960  3.767927e+10  \n",
       "36552   NY.GDP.MKTP.CD  1961  3.992045e+10  \n",
       "64092   NY.GDP.MKTP.CD  1962  4.290086e+10  \n",
       "92537   NY.GDP.MKTP.CD  1963  4.927110e+10  \n",
       "121334  NY.GDP.MKTP.CD  1964  5.747078e+10  "
      ]
     },
     "execution_count": 50,
     "metadata": {},
     "output_type": "execute_result"
    }
   ],
   "source": [
    "indGDP.head()"
   ]
  },
  {
   "cell_type": "code",
   "execution_count": 53,
   "metadata": {},
   "outputs": [],
   "source": [
    "indCO2 = indCO2.loc[indCO2['Year'] >= 1990]"
   ]
  },
  {
   "cell_type": "code",
   "execution_count": 60,
   "metadata": {},
   "outputs": [],
   "source": [
    "indGDP = indGDP.loc[indGDP['Year'] >= 1990]"
   ]
  },
  {
   "cell_type": "code",
   "execution_count": 55,
   "metadata": {},
   "outputs": [
    {
     "data": {
      "text/plain": [
       "(22, 6)"
      ]
     },
     "execution_count": 55,
     "metadata": {},
     "output_type": "execute_result"
    }
   ],
   "source": [
    "indCO2.shape"
   ]
  },
  {
   "cell_type": "code",
   "execution_count": 56,
   "metadata": {},
   "outputs": [
    {
     "data": {
      "text/plain": [
       "(25, 6)"
      ]
     },
     "execution_count": 56,
     "metadata": {},
     "output_type": "execute_result"
    }
   ],
   "source": [
    "indGDP.shape"
   ]
  },
  {
   "cell_type": "code",
   "execution_count": 57,
   "metadata": {},
   "outputs": [
    {
     "data": {
      "text/html": [
       "<div>\n",
       "<style scoped>\n",
       "    .dataframe tbody tr th:only-of-type {\n",
       "        vertical-align: middle;\n",
       "    }\n",
       "\n",
       "    .dataframe tbody tr th {\n",
       "        vertical-align: top;\n",
       "    }\n",
       "\n",
       "    .dataframe thead th {\n",
       "        text-align: right;\n",
       "    }\n",
       "</style>\n",
       "<table border=\"1\" class=\"dataframe\">\n",
       "  <thead>\n",
       "    <tr style=\"text-align: right;\">\n",
       "      <th></th>\n",
       "      <th>CountryName</th>\n",
       "      <th>CountryCode</th>\n",
       "      <th>IndicatorName</th>\n",
       "      <th>IndicatorCode</th>\n",
       "      <th>Year</th>\n",
       "      <th>Value</th>\n",
       "    </tr>\n",
       "  </thead>\n",
       "  <tbody>\n",
       "    <tr>\n",
       "      <td>4929431</td>\n",
       "      <td>India</td>\n",
       "      <td>IND</td>\n",
       "      <td>GDP at market prices (current US$)</td>\n",
       "      <td>NY.GDP.MKTP.CD</td>\n",
       "      <td>2010</td>\n",
       "      <td>1.708459e+12</td>\n",
       "    </tr>\n",
       "    <tr>\n",
       "      <td>5111231</td>\n",
       "      <td>India</td>\n",
       "      <td>IND</td>\n",
       "      <td>GDP at market prices (current US$)</td>\n",
       "      <td>NY.GDP.MKTP.CD</td>\n",
       "      <td>2011</td>\n",
       "      <td>1.835814e+12</td>\n",
       "    </tr>\n",
       "    <tr>\n",
       "      <td>5286917</td>\n",
       "      <td>India</td>\n",
       "      <td>IND</td>\n",
       "      <td>GDP at market prices (current US$)</td>\n",
       "      <td>NY.GDP.MKTP.CD</td>\n",
       "      <td>2012</td>\n",
       "      <td>1.831782e+12</td>\n",
       "    </tr>\n",
       "    <tr>\n",
       "      <td>5453101</td>\n",
       "      <td>India</td>\n",
       "      <td>IND</td>\n",
       "      <td>GDP at market prices (current US$)</td>\n",
       "      <td>NY.GDP.MKTP.CD</td>\n",
       "      <td>2013</td>\n",
       "      <td>1.861802e+12</td>\n",
       "    </tr>\n",
       "    <tr>\n",
       "      <td>5585315</td>\n",
       "      <td>India</td>\n",
       "      <td>IND</td>\n",
       "      <td>GDP at market prices (current US$)</td>\n",
       "      <td>NY.GDP.MKTP.CD</td>\n",
       "      <td>2014</td>\n",
       "      <td>2.048517e+12</td>\n",
       "    </tr>\n",
       "  </tbody>\n",
       "</table>\n",
       "</div>"
      ],
      "text/plain": [
       "        CountryName CountryCode                       IndicatorName  \\\n",
       "4929431       India         IND  GDP at market prices (current US$)   \n",
       "5111231       India         IND  GDP at market prices (current US$)   \n",
       "5286917       India         IND  GDP at market prices (current US$)   \n",
       "5453101       India         IND  GDP at market prices (current US$)   \n",
       "5585315       India         IND  GDP at market prices (current US$)   \n",
       "\n",
       "          IndicatorCode  Year         Value  \n",
       "4929431  NY.GDP.MKTP.CD  2010  1.708459e+12  \n",
       "5111231  NY.GDP.MKTP.CD  2011  1.835814e+12  \n",
       "5286917  NY.GDP.MKTP.CD  2012  1.831782e+12  \n",
       "5453101  NY.GDP.MKTP.CD  2013  1.861802e+12  \n",
       "5585315  NY.GDP.MKTP.CD  2014  2.048517e+12  "
      ]
     },
     "execution_count": 57,
     "metadata": {},
     "output_type": "execute_result"
    }
   ],
   "source": [
    "indGDP.tail()"
   ]
  },
  {
   "cell_type": "code",
   "execution_count": 58,
   "metadata": {},
   "outputs": [
    {
     "data": {
      "text/html": [
       "<div>\n",
       "<style scoped>\n",
       "    .dataframe tbody tr th:only-of-type {\n",
       "        vertical-align: middle;\n",
       "    }\n",
       "\n",
       "    .dataframe tbody tr th {\n",
       "        vertical-align: top;\n",
       "    }\n",
       "\n",
       "    .dataframe thead th {\n",
       "        text-align: right;\n",
       "    }\n",
       "</style>\n",
       "<table border=\"1\" class=\"dataframe\">\n",
       "  <thead>\n",
       "    <tr style=\"text-align: right;\">\n",
       "      <th></th>\n",
       "      <th>CountryName</th>\n",
       "      <th>CountryCode</th>\n",
       "      <th>IndicatorName</th>\n",
       "      <th>IndicatorCode</th>\n",
       "      <th>Year</th>\n",
       "      <th>Value</th>\n",
       "    </tr>\n",
       "  </thead>\n",
       "  <tbody>\n",
       "    <tr>\n",
       "      <td>4386993</td>\n",
       "      <td>India</td>\n",
       "      <td>IND</td>\n",
       "      <td>CO2 emissions (kt)</td>\n",
       "      <td>EN.ATM.CO2E.KT</td>\n",
       "      <td>2007</td>\n",
       "      <td>1611199.126</td>\n",
       "    </tr>\n",
       "    <tr>\n",
       "      <td>4567308</td>\n",
       "      <td>India</td>\n",
       "      <td>IND</td>\n",
       "      <td>CO2 emissions (kt)</td>\n",
       "      <td>EN.ATM.CO2E.KT</td>\n",
       "      <td>2008</td>\n",
       "      <td>1793074.992</td>\n",
       "    </tr>\n",
       "    <tr>\n",
       "      <td>4746430</td>\n",
       "      <td>India</td>\n",
       "      <td>IND</td>\n",
       "      <td>CO2 emissions (kt)</td>\n",
       "      <td>EN.ATM.CO2E.KT</td>\n",
       "      <td>2009</td>\n",
       "      <td>1965820.028</td>\n",
       "    </tr>\n",
       "    <tr>\n",
       "      <td>4929231</td>\n",
       "      <td>India</td>\n",
       "      <td>IND</td>\n",
       "      <td>CO2 emissions (kt)</td>\n",
       "      <td>EN.ATM.CO2E.KT</td>\n",
       "      <td>2010</td>\n",
       "      <td>1950950.343</td>\n",
       "    </tr>\n",
       "    <tr>\n",
       "      <td>5111047</td>\n",
       "      <td>India</td>\n",
       "      <td>IND</td>\n",
       "      <td>CO2 emissions (kt)</td>\n",
       "      <td>EN.ATM.CO2E.KT</td>\n",
       "      <td>2011</td>\n",
       "      <td>2074344.893</td>\n",
       "    </tr>\n",
       "  </tbody>\n",
       "</table>\n",
       "</div>"
      ],
      "text/plain": [
       "        CountryName CountryCode       IndicatorName   IndicatorCode  Year  \\\n",
       "4386993       India         IND  CO2 emissions (kt)  EN.ATM.CO2E.KT  2007   \n",
       "4567308       India         IND  CO2 emissions (kt)  EN.ATM.CO2E.KT  2008   \n",
       "4746430       India         IND  CO2 emissions (kt)  EN.ATM.CO2E.KT  2009   \n",
       "4929231       India         IND  CO2 emissions (kt)  EN.ATM.CO2E.KT  2010   \n",
       "5111047       India         IND  CO2 emissions (kt)  EN.ATM.CO2E.KT  2011   \n",
       "\n",
       "               Value  \n",
       "4386993  1611199.126  \n",
       "4567308  1793074.992  \n",
       "4746430  1965820.028  \n",
       "4929231  1950950.343  \n",
       "5111047  2074344.893  "
      ]
     },
     "execution_count": 58,
     "metadata": {},
     "output_type": "execute_result"
    }
   ],
   "source": [
    "indCO2.tail()"
   ]
  },
  {
   "cell_type": "code",
   "execution_count": 83,
   "metadata": {},
   "outputs": [],
   "source": [
    "indGDP = indGDP.drop([5286917, 5453101, 5585315], axis = 0)"
   ]
  },
  {
   "cell_type": "code",
   "execution_count": 84,
   "metadata": {},
   "outputs": [
    {
     "data": {
      "text/plain": [
       "(22, 6)"
      ]
     },
     "execution_count": 84,
     "metadata": {},
     "output_type": "execute_result"
    }
   ],
   "source": [
    "indGDP.shape"
   ]
  },
  {
   "cell_type": "code",
   "execution_count": 63,
   "metadata": {},
   "outputs": [
    {
     "data": {
      "text/html": [
       "<div>\n",
       "<style scoped>\n",
       "    .dataframe tbody tr th:only-of-type {\n",
       "        vertical-align: middle;\n",
       "    }\n",
       "\n",
       "    .dataframe tbody tr th {\n",
       "        vertical-align: top;\n",
       "    }\n",
       "\n",
       "    .dataframe thead th {\n",
       "        text-align: right;\n",
       "    }\n",
       "</style>\n",
       "<table border=\"1\" class=\"dataframe\">\n",
       "  <thead>\n",
       "    <tr style=\"text-align: right;\">\n",
       "      <th></th>\n",
       "      <th>CountryName</th>\n",
       "      <th>CountryCode</th>\n",
       "      <th>IndicatorName</th>\n",
       "      <th>IndicatorCode</th>\n",
       "      <th>Year</th>\n",
       "      <th>Value</th>\n",
       "    </tr>\n",
       "  </thead>\n",
       "  <tbody>\n",
       "    <tr>\n",
       "      <td>1937580</td>\n",
       "      <td>India</td>\n",
       "      <td>IND</td>\n",
       "      <td>CO2 emissions (kt)</td>\n",
       "      <td>EN.ATM.CO2E.KT</td>\n",
       "      <td>1990</td>\n",
       "      <td>690576.774</td>\n",
       "    </tr>\n",
       "    <tr>\n",
       "      <td>2054744</td>\n",
       "      <td>India</td>\n",
       "      <td>IND</td>\n",
       "      <td>CO2 emissions (kt)</td>\n",
       "      <td>EN.ATM.CO2E.KT</td>\n",
       "      <td>1991</td>\n",
       "      <td>737851.738</td>\n",
       "    </tr>\n",
       "    <tr>\n",
       "      <td>2172859</td>\n",
       "      <td>India</td>\n",
       "      <td>IND</td>\n",
       "      <td>CO2 emissions (kt)</td>\n",
       "      <td>EN.ATM.CO2E.KT</td>\n",
       "      <td>1992</td>\n",
       "      <td>783634.233</td>\n",
       "    </tr>\n",
       "    <tr>\n",
       "      <td>2295831</td>\n",
       "      <td>India</td>\n",
       "      <td>IND</td>\n",
       "      <td>CO2 emissions (kt)</td>\n",
       "      <td>EN.ATM.CO2E.KT</td>\n",
       "      <td>1993</td>\n",
       "      <td>814297.687</td>\n",
       "    </tr>\n",
       "    <tr>\n",
       "      <td>2420603</td>\n",
       "      <td>India</td>\n",
       "      <td>IND</td>\n",
       "      <td>CO2 emissions (kt)</td>\n",
       "      <td>EN.ATM.CO2E.KT</td>\n",
       "      <td>1994</td>\n",
       "      <td>864931.623</td>\n",
       "    </tr>\n",
       "    <tr>\n",
       "      <td>2550483</td>\n",
       "      <td>India</td>\n",
       "      <td>IND</td>\n",
       "      <td>CO2 emissions (kt)</td>\n",
       "      <td>EN.ATM.CO2E.KT</td>\n",
       "      <td>1995</td>\n",
       "      <td>920046.633</td>\n",
       "    </tr>\n",
       "    <tr>\n",
       "      <td>2685507</td>\n",
       "      <td>India</td>\n",
       "      <td>IND</td>\n",
       "      <td>CO2 emissions (kt)</td>\n",
       "      <td>EN.ATM.CO2E.KT</td>\n",
       "      <td>1996</td>\n",
       "      <td>1002224.103</td>\n",
       "    </tr>\n",
       "    <tr>\n",
       "      <td>2820938</td>\n",
       "      <td>India</td>\n",
       "      <td>IND</td>\n",
       "      <td>CO2 emissions (kt)</td>\n",
       "      <td>EN.ATM.CO2E.KT</td>\n",
       "      <td>1997</td>\n",
       "      <td>1043939.895</td>\n",
       "    </tr>\n",
       "    <tr>\n",
       "      <td>2957923</td>\n",
       "      <td>India</td>\n",
       "      <td>IND</td>\n",
       "      <td>CO2 emissions (kt)</td>\n",
       "      <td>EN.ATM.CO2E.KT</td>\n",
       "      <td>1998</td>\n",
       "      <td>1071911.771</td>\n",
       "    </tr>\n",
       "    <tr>\n",
       "      <td>3097199</td>\n",
       "      <td>India</td>\n",
       "      <td>IND</td>\n",
       "      <td>CO2 emissions (kt)</td>\n",
       "      <td>EN.ATM.CO2E.KT</td>\n",
       "      <td>1999</td>\n",
       "      <td>1144390.026</td>\n",
       "    </tr>\n",
       "    <tr>\n",
       "      <td>3245534</td>\n",
       "      <td>India</td>\n",
       "      <td>IND</td>\n",
       "      <td>CO2 emissions (kt)</td>\n",
       "      <td>EN.ATM.CO2E.KT</td>\n",
       "      <td>2000</td>\n",
       "      <td>1186663.202</td>\n",
       "    </tr>\n",
       "    <tr>\n",
       "      <td>3397899</td>\n",
       "      <td>India</td>\n",
       "      <td>IND</td>\n",
       "      <td>CO2 emissions (kt)</td>\n",
       "      <td>EN.ATM.CO2E.KT</td>\n",
       "      <td>2001</td>\n",
       "      <td>1203843.097</td>\n",
       "    </tr>\n",
       "    <tr>\n",
       "      <td>3550524</td>\n",
       "      <td>India</td>\n",
       "      <td>IND</td>\n",
       "      <td>CO2 emissions (kt)</td>\n",
       "      <td>EN.ATM.CO2E.KT</td>\n",
       "      <td>2002</td>\n",
       "      <td>1226791.183</td>\n",
       "    </tr>\n",
       "    <tr>\n",
       "      <td>3704752</td>\n",
       "      <td>India</td>\n",
       "      <td>IND</td>\n",
       "      <td>CO2 emissions (kt)</td>\n",
       "      <td>EN.ATM.CO2E.KT</td>\n",
       "      <td>2003</td>\n",
       "      <td>1281913.527</td>\n",
       "    </tr>\n",
       "    <tr>\n",
       "      <td>3860114</td>\n",
       "      <td>India</td>\n",
       "      <td>IND</td>\n",
       "      <td>CO2 emissions (kt)</td>\n",
       "      <td>EN.ATM.CO2E.KT</td>\n",
       "      <td>2004</td>\n",
       "      <td>1348524.582</td>\n",
       "    </tr>\n",
       "    <tr>\n",
       "      <td>4029575</td>\n",
       "      <td>India</td>\n",
       "      <td>IND</td>\n",
       "      <td>CO2 emissions (kt)</td>\n",
       "      <td>EN.ATM.CO2E.KT</td>\n",
       "      <td>2005</td>\n",
       "      <td>1411127.606</td>\n",
       "    </tr>\n",
       "    <tr>\n",
       "      <td>4208129</td>\n",
       "      <td>India</td>\n",
       "      <td>IND</td>\n",
       "      <td>CO2 emissions (kt)</td>\n",
       "      <td>EN.ATM.CO2E.KT</td>\n",
       "      <td>2006</td>\n",
       "      <td>1504364.748</td>\n",
       "    </tr>\n",
       "    <tr>\n",
       "      <td>4386993</td>\n",
       "      <td>India</td>\n",
       "      <td>IND</td>\n",
       "      <td>CO2 emissions (kt)</td>\n",
       "      <td>EN.ATM.CO2E.KT</td>\n",
       "      <td>2007</td>\n",
       "      <td>1611199.126</td>\n",
       "    </tr>\n",
       "    <tr>\n",
       "      <td>4567308</td>\n",
       "      <td>India</td>\n",
       "      <td>IND</td>\n",
       "      <td>CO2 emissions (kt)</td>\n",
       "      <td>EN.ATM.CO2E.KT</td>\n",
       "      <td>2008</td>\n",
       "      <td>1793074.992</td>\n",
       "    </tr>\n",
       "    <tr>\n",
       "      <td>4746430</td>\n",
       "      <td>India</td>\n",
       "      <td>IND</td>\n",
       "      <td>CO2 emissions (kt)</td>\n",
       "      <td>EN.ATM.CO2E.KT</td>\n",
       "      <td>2009</td>\n",
       "      <td>1965820.028</td>\n",
       "    </tr>\n",
       "    <tr>\n",
       "      <td>4929231</td>\n",
       "      <td>India</td>\n",
       "      <td>IND</td>\n",
       "      <td>CO2 emissions (kt)</td>\n",
       "      <td>EN.ATM.CO2E.KT</td>\n",
       "      <td>2010</td>\n",
       "      <td>1950950.343</td>\n",
       "    </tr>\n",
       "    <tr>\n",
       "      <td>5111047</td>\n",
       "      <td>India</td>\n",
       "      <td>IND</td>\n",
       "      <td>CO2 emissions (kt)</td>\n",
       "      <td>EN.ATM.CO2E.KT</td>\n",
       "      <td>2011</td>\n",
       "      <td>2074344.893</td>\n",
       "    </tr>\n",
       "  </tbody>\n",
       "</table>\n",
       "</div>"
      ],
      "text/plain": [
       "        CountryName CountryCode       IndicatorName   IndicatorCode  Year  \\\n",
       "1937580       India         IND  CO2 emissions (kt)  EN.ATM.CO2E.KT  1990   \n",
       "2054744       India         IND  CO2 emissions (kt)  EN.ATM.CO2E.KT  1991   \n",
       "2172859       India         IND  CO2 emissions (kt)  EN.ATM.CO2E.KT  1992   \n",
       "2295831       India         IND  CO2 emissions (kt)  EN.ATM.CO2E.KT  1993   \n",
       "2420603       India         IND  CO2 emissions (kt)  EN.ATM.CO2E.KT  1994   \n",
       "2550483       India         IND  CO2 emissions (kt)  EN.ATM.CO2E.KT  1995   \n",
       "2685507       India         IND  CO2 emissions (kt)  EN.ATM.CO2E.KT  1996   \n",
       "2820938       India         IND  CO2 emissions (kt)  EN.ATM.CO2E.KT  1997   \n",
       "2957923       India         IND  CO2 emissions (kt)  EN.ATM.CO2E.KT  1998   \n",
       "3097199       India         IND  CO2 emissions (kt)  EN.ATM.CO2E.KT  1999   \n",
       "3245534       India         IND  CO2 emissions (kt)  EN.ATM.CO2E.KT  2000   \n",
       "3397899       India         IND  CO2 emissions (kt)  EN.ATM.CO2E.KT  2001   \n",
       "3550524       India         IND  CO2 emissions (kt)  EN.ATM.CO2E.KT  2002   \n",
       "3704752       India         IND  CO2 emissions (kt)  EN.ATM.CO2E.KT  2003   \n",
       "3860114       India         IND  CO2 emissions (kt)  EN.ATM.CO2E.KT  2004   \n",
       "4029575       India         IND  CO2 emissions (kt)  EN.ATM.CO2E.KT  2005   \n",
       "4208129       India         IND  CO2 emissions (kt)  EN.ATM.CO2E.KT  2006   \n",
       "4386993       India         IND  CO2 emissions (kt)  EN.ATM.CO2E.KT  2007   \n",
       "4567308       India         IND  CO2 emissions (kt)  EN.ATM.CO2E.KT  2008   \n",
       "4746430       India         IND  CO2 emissions (kt)  EN.ATM.CO2E.KT  2009   \n",
       "4929231       India         IND  CO2 emissions (kt)  EN.ATM.CO2E.KT  2010   \n",
       "5111047       India         IND  CO2 emissions (kt)  EN.ATM.CO2E.KT  2011   \n",
       "\n",
       "               Value  \n",
       "1937580   690576.774  \n",
       "2054744   737851.738  \n",
       "2172859   783634.233  \n",
       "2295831   814297.687  \n",
       "2420603   864931.623  \n",
       "2550483   920046.633  \n",
       "2685507  1002224.103  \n",
       "2820938  1043939.895  \n",
       "2957923  1071911.771  \n",
       "3097199  1144390.026  \n",
       "3245534  1186663.202  \n",
       "3397899  1203843.097  \n",
       "3550524  1226791.183  \n",
       "3704752  1281913.527  \n",
       "3860114  1348524.582  \n",
       "4029575  1411127.606  \n",
       "4208129  1504364.748  \n",
       "4386993  1611199.126  \n",
       "4567308  1793074.992  \n",
       "4746430  1965820.028  \n",
       "4929231  1950950.343  \n",
       "5111047  2074344.893  "
      ]
     },
     "execution_count": 63,
     "metadata": {},
     "output_type": "execute_result"
    }
   ],
   "source": [
    "indCO2"
   ]
  },
  {
   "cell_type": "code",
   "execution_count": 65,
   "metadata": {},
   "outputs": [],
   "source": [
    "years = indCO2['Year'].tolist()"
   ]
  },
  {
   "cell_type": "code",
   "execution_count": 72,
   "metadata": {},
   "outputs": [],
   "source": [
    "CO2 = indCO2['Value'].tolist()"
   ]
  },
  {
   "cell_type": "code",
   "execution_count": 86,
   "metadata": {},
   "outputs": [],
   "source": [
    "GDP = indGDP['Value'].tolist()"
   ]
  },
  {
   "cell_type": "code",
   "execution_count": 96,
   "metadata": {},
   "outputs": [
    {
     "data": {
      "text/plain": [
       "Text(0, 0.5, 'GDP (USD)')"
      ]
     },
     "execution_count": 96,
     "metadata": {},
     "output_type": "execute_result"
    },
    {
     "data": {
      "image/png": "[encoded data removed]",
      "text/plain": [
       "<Figure size 432x288 with 1 Axes>"
      ]
     },
     "metadata": {
      "needs_background": "light"
     },
     "output_type": "display_data"
    }
   ],
   "source": [
    "plt.scatter(years, GDP, color = 'red')\n",
    "plt.title('Indian GDP (USD) over time')\n",
    "plt.xlabel('Year')\n",
    "plt.ylabel('GDP (USD)')"
   ]
  },
  {
   "cell_type": "markdown",
   "metadata": {},
   "source": [
    "plt.scatter(years, CO2, color = 'green')\n",
    "plt.title('Indian CO2 emissions (kt) over time')\n",
    "plt.xlabel('Year')\n",
    "plt.ylabel('CO2 emissions (kt)')"
   ]
  },
  {
   "cell_type": "code",
   "execution_count": 98,
   "metadata": {},
   "outputs": [
    {
     "data": {
      "text/plain": [
       "Text(0, 0.5, 'CO2 emissions (kt)')"
      ]
     },
     "execution_count": 98,
     "metadata": {},
     "output_type": "execute_result"
    },
    {
     "data": {
      "image/png": "[encoded data removed]",
      "text/plain": [
       "<Figure size 432x288 with 1 Axes>"
      ]
     },
     "metadata": {
      "needs_background": "light"
     },
     "output_type": "display_data"
    }
   ],
   "source": [
    "plt.scatter(GDP, CO2, color = 'orange')\n",
    "plt.title('CO2 emissions vs GDP')\n",
    "plt.xlabel('GDP (USD)')\n",
    "plt.ylabel('CO2 emissions (kt)')"
   ]
  },
  {
   "cell_type": "code",
   "execution_count": null,
   "metadata": {},
   "outputs": [],
   "source": []
  }
 ],
 "metadata": {
  "kernelspec": {
   "display_name": "Python 3",
   "language": "python",
   "name": "python3"
  },
  "language_info": {
   "codemirror_mode": {
    "name": "ipython",
    "version": 3
   },
   "file_extension": ".py",
   "mimetype": "text/x-python",
   "name": "python",
   "nbconvert_exporter": "python",
   "pygments_lexer": "ipython3",
   "version": "3.7.1"
  }
 },
 "nbformat": 4,
 "nbformat_minor": 2
}
